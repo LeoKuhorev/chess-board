{
 "cells": [
  {
   "cell_type": "markdown",
   "metadata": {},
   "source": [
    "### Lab 03"
   ]
  },
  {
   "cell_type": "code",
   "execution_count": 3,
   "metadata": {},
   "outputs": [],
   "source": [
    "class Chessboard:\n",
    "    def __init__(self):\n",
    "        # Colors\n",
    "        self.white = (1, 1, 1)\n",
    "        self.red = (1, .2, 0)\n",
    "        self.blue = (.1, .1, 1)\n",
    "\n",
    "        # Queens\n",
    "        self.red_queen = tuple()\n",
    "        self.blue_queen = tuple()\n",
    "        \n",
    "        self.grid = np.zeros((8, 8, 3))\n",
    "        self.set_grid()\n",
    "\n",
    "    def set_grid(self):\n",
    "        for x in range(len(self.grid)):\n",
    "            for y in range(len(self.grid[x])):\n",
    "                if (x + y) % 2 == 0:\n",
    "                    self.grid[x, y] = white\n",
    "        \n",
    "        if self.red_queen:\n",
    "            self.greed[red_queen] = self.white\n",
    "        if self.blue_queen:\n",
    "            self.greed[blue_queen] = self.white\n",
    "\n",
    "    \n",
    "    def add_red(self, row, col):\n",
    "        self.red_queen = (row, col)\n",
    "        self.set_grid()\n",
    "    \n",
    "    def add_blue(self, row, col):\n",
    "        self.blue_queen = (row, col)\n",
    "        self.set_grid()\n",
    "    \n",
    "    def render(self):\n",
    "        plt.imshow(self.grid)\n",
    "    \n",
    "    def is_under_attack(self):\n",
    "        return self.red_queen[0] == self.blue_queen[0] or \\\n",
    "                self.blue_queen[1] == self.blue_queen[1] or \\\n",
    "                abs(self.red_queen[0] - self.red_queen[1]) == abs(self.blue_queen[0] - self.blue_queen[1])\n",
    "\n",
    "\n",
    "\n",
    "\n"
   ]
  },
  {
   "cell_type": "code",
   "execution_count": null,
   "metadata": {
    "jupyter": {
     "source_hidden": true
    }
   },
   "outputs": [],
   "source": []
  }
 ],
 "metadata": {
  "kernelspec": {
   "display_name": "Python 3.8.2 64-bit",
   "language": "python",
   "name": "python38264bit3e9e614c76514e7fbdf9a38b501af665"
  },
  "language_info": {
   "codemirror_mode": {
    "name": "ipython",
    "version": 3
   },
   "file_extension": ".py",
   "mimetype": "text/x-python",
   "name": "python",
   "nbconvert_exporter": "python",
   "pygments_lexer": "ipython3",
   "version": "3.8.2-final"
  }
 },
 "nbformat": 4,
 "nbformat_minor": 4
}